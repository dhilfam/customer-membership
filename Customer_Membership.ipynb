{
  "nbformat": 4,
  "nbformat_minor": 0,
  "metadata": {
    "colab": {
      "provenance": []
    },
    "kernelspec": {
      "name": "python3",
      "display_name": "Python 3"
    },
    "language_info": {
      "name": "python"
    }
  },
  "cells": [
    {
      "cell_type": "markdown",
      "source": [
        "# Membership Table"
      ],
      "metadata": {
        "id": "MTnSu2wHz6Ju"
      }
    },
    {
      "cell_type": "markdown",
      "source": [
        "| **Membership** | **Discount** |                     **Another Benefit**                     |\n",
        "|:--------------:|:------------:|:-----------------------------------------------------------:|\n",
        "|    Platinum    |      15%     | Benefit Silver + Gold + Voucher Liburan + Cashback max. 30% |\n",
        "|      Gold      |      10%     | Benefit Silver + Voucher Ojek Online                        |\n",
        "|     Silver     |      8%      | Voucher Makanan                                             |"
      ],
      "metadata": {
        "id": "EJfgb_wT0DrK"
      }
    },
    {
      "cell_type": "markdown",
      "source": [
        "# Requirements Membership Table"
      ],
      "metadata": {
        "id": "HiRd3g821w64"
      }
    },
    {
      "cell_type": "markdown",
      "source": [
        "| **Membership** | **Monthly Expense (juta)** | **Monthly Income (juta)** |\n",
        "|:--------------:|:--------------------------:|:-------------------------:|\n",
        "|    Platinum    |              8             | 15                        |\n",
        "|      Gold      |              6             | 10                        |\n",
        "|     Silver     |              5             | 7                         |"
      ],
      "metadata": {
        "id": "cv8Ru7WA13H_"
      }
    },
    {
      "cell_type": "markdown",
      "source": [
        "# Features List"
      ],
      "metadata": {
        "id": "wEzeGSYO1-Ko"
      }
    },
    {
      "cell_type": "markdown",
      "source": [
        "- [x] `show_benefit()` --> show all membership benefit (table 1)\n",
        "- [x] `show_requirements()` --> show all requirements untuk menjadi membership (table 2)\n",
        "- [x] `predict_membership(monthly_expense, monthly_income)` --> memprediksi user akan masuk ke dalam membership mana berdasarkan input parameter dan parameter masing - masing membership\n",
        "- [x] `calculate_price(membership, list_harga_barang)` --> menghitung final price yang harus dibayarkan, terus akan mendapatkan diskon sesuai dengan ketentuan membership"
      ],
      "metadata": {
        "id": "nT3yiXtD2ANB"
      }
    },
    {
      "cell_type": "markdown",
      "source": [
        "# Import Library"
      ],
      "metadata": {
        "id": "3iVlBy0Z2e7m"
      }
    },
    {
      "cell_type": "code",
      "source": [
        "# %pip install tabulate\n",
        "# untuk membuat table\n",
        "from tabulate import tabulate\n",
        "\n",
        "# square root, untuk menghitung euclidean distance\n",
        "from math import sqrt"
      ],
      "metadata": {
        "id": "lZ8TYu8l12B2"
      },
      "execution_count": 1,
      "outputs": []
    },
    {
      "cell_type": "markdown",
      "source": [
        "# Create Membership Class"
      ],
      "metadata": {
        "id": "iAmwewyp3xYw"
      }
    },
    {
      "cell_type": "code",
      "execution_count": 2,
      "metadata": {
        "id": "W5cAhehDzeO_"
      },
      "outputs": [],
      "source": [
        "class Membership:\n",
        "\n",
        "    # inisialisasi data\n",
        "    data = {\n",
        "        \"Sumbul\": \"Platinum\",\n",
        "        \"Ana\": \"Gold\",\n",
        "        \"Cahya\": \"Platinum\"\n",
        "    }\n",
        "\n",
        "    # inisialisai attribute\n",
        "    def __init__(self, username):\n",
        "        self.username = username\n",
        "\n",
        "    # method untuk menampilkan benefit membership\n",
        "    def show_benefit(self):\n",
        "        tables = [\n",
        "            [\"Platinum\", \"15%\", \"Benefit Gold + Silver + Cashback max. 30%\"],\n",
        "            [\"Gold\", \"10%\", \"Benefit Silver + Voucher Ojek Online\"],\n",
        "            [\"Silver\", \"8%\", \"Voucher Makanan\"],\n",
        "        ]\n",
        "\n",
        "        headers = [\"Membership\", \"Discount\", \"Another Benefit\"]\n",
        "\n",
        "        print(\"Benefit Membership PacCommerce\\n\")\n",
        "        # print(\"\")\n",
        "        print(tabulate(tables, headers, tablefmt='github', stralign=\"center\"))\n",
        "\n",
        "    # method untuk menampilkan requirements membership\n",
        "    def show_requirements(self):\n",
        "        tables = [\n",
        "            [\"Platinum\", 8, 15],\n",
        "            [\"Gold\", 6, 10],\n",
        "            [\"Silver\", 5, 7],\n",
        "        ]\n",
        "\n",
        "        headers = [\"Membership\", \"Monthly Expense (juta)\", \"Monthly Income (juta)\"]\n",
        "\n",
        "        print(\"Requirements Membership PacCommerce\\n\")\n",
        "        # print(\"\")\n",
        "        print(tabulate(tables, headers, tablefmt='github', numalign=\"center\"))\n",
        "\n",
        "    # method untuk melakukan prediksi membership\n",
        "    # menggunakan euclidean distance\n",
        "    def predict_membership(self, username,\n",
        "                           monthly_expense,\n",
        "                           monthly_income):\n",
        "\n",
        "        res = []\n",
        "\n",
        "        membership_parameter = [[8, 15], [6, 10], [5, 7]]\n",
        "\n",
        "        for index, _ in enumerate(membership_parameter):\n",
        "            tmp = round(sqrt((monthly_expense - membership_parameter[index][0])**2 + (monthly_income - membership_parameter[index][1])**2), 2)\n",
        "\n",
        "            res.append(tmp)\n",
        "\n",
        "        res_dict = {\n",
        "            \"Platinum\": res[0],\n",
        "            \"Gold\": res[1],\n",
        "            \"Silver\": res[2]\n",
        "        }\n",
        "\n",
        "        print(f\"Hasil perhitungan Euclidean Distance dari user {self.username} adalah {res_dict}\")\n",
        "\n",
        "        for member, distance in res_dict.items():\n",
        "            if distance == min(res):\n",
        "                self.data[username] = member\n",
        "                return member\n",
        "\n",
        "    # method untuk menampilkan membership yang dimiliki\n",
        "    # dari database yang dimiliki\n",
        "    def show_membership(self, username):\n",
        "        if username in self.data:\n",
        "            return self.data.get(username)\n",
        "\n",
        "\n",
        "    # method untuk menghitung final price berdasarkan membership\n",
        "    def calculate_price(self, username, list_harga):\n",
        "\n",
        "        try:\n",
        "            if username in self.data:\n",
        "                membership = self.data.get(username)\n",
        "                if membership == \"Platinum\":\n",
        "                    total_harga = sum(list_harga) - (sum(list_harga) * 0.15)\n",
        "                    return total_harga\n",
        "\n",
        "                elif membership == \"Gold\":\n",
        "                    total_harga = sum(list_harga) - (sum(list_harga) * 0.10)\n",
        "                    return total_harga\n",
        "\n",
        "                elif membership == \"Silver\":\n",
        "                    total_harga = sum(list_harga) - (sum(list_harga) * 0.08)\n",
        "                    return total_harga\n",
        "\n",
        "                else:\n",
        "                    raise Exception(\"Membership doesn't exist\")\n",
        "\n",
        "            else:\n",
        "                raise Exception(\"Membership tidak ada di database\")\n",
        "\n",
        "        except:\n",
        "            raise Exception(\"Invalid process\")"
      ]
    },
    {
      "cell_type": "code",
      "source": [
        "# membuat Instance\n",
        "user_1 = Membership(\"Fadhil\")"
      ],
      "metadata": {
        "id": "XtT-JMTpiY_m"
      },
      "execution_count": 3,
      "outputs": []
    },
    {
      "cell_type": "markdown",
      "source": [
        "## Mengecek data yang ada"
      ],
      "metadata": {
        "id": "nbHrxw13tHwg"
      }
    },
    {
      "cell_type": "code",
      "source": [
        "\n",
        "user_1.data"
      ],
      "metadata": {
        "colab": {
          "base_uri": "https://localhost:8080/"
        },
        "id": "_h9-fA5-tKzE",
        "outputId": "8fd4a80a-d554-4a77-a799-685071036efd"
      },
      "execution_count": 4,
      "outputs": [
        {
          "output_type": "execute_result",
          "data": {
            "text/plain": [
              "{'Sumbul': 'Platinum', 'Ana': 'Gold', 'Cahya': 'Platinum'}"
            ]
          },
          "metadata": {},
          "execution_count": 4
        }
      ]
    },
    {
      "cell_type": "markdown",
      "source": [
        "## Test Case 1"
      ],
      "metadata": {
        "id": "NUJw09pmtQTQ"
      }
    },
    {
      "cell_type": "code",
      "source": [
        "\n",
        "user_1.show_benefit()"
      ],
      "metadata": {
        "colab": {
          "base_uri": "https://localhost:8080/"
        },
        "id": "OwisPmChtOI-",
        "outputId": "597e1604-3492-4c36-b53f-799717014a13"
      },
      "execution_count": 5,
      "outputs": [
        {
          "output_type": "stream",
          "name": "stdout",
          "text": [
            "Benefit Membership PacCommerce\n",
            "\n",
            "|  Membership  |  Discount  |              Another Benefit              |\n",
            "|--------------|------------|-------------------------------------------|\n",
            "|   Platinum   |    15%     | Benefit Gold + Silver + Cashback max. 30% |\n",
            "|     Gold     |    10%     |   Benefit Silver + Voucher Ojek Online    |\n",
            "|    Silver    |     8%     |              Voucher Makanan              |\n"
          ]
        }
      ]
    },
    {
      "cell_type": "markdown",
      "source": [
        "## Test Case 2"
      ],
      "metadata": {
        "id": "dR1VFWTBtWaL"
      }
    },
    {
      "cell_type": "code",
      "source": [
        "user_1.show_requirements()"
      ],
      "metadata": {
        "colab": {
          "base_uri": "https://localhost:8080/"
        },
        "id": "czJ110HHtZBO",
        "outputId": "e68affaf-b3b5-4a21-a207-1033cf2980f9"
      },
      "execution_count": 6,
      "outputs": [
        {
          "output_type": "stream",
          "name": "stdout",
          "text": [
            "Requirements Membership PacCommerce\n",
            "\n",
            "| Membership   |  Monthly Expense (juta)  |  Monthly Income (juta)  |\n",
            "|--------------|--------------------------|-------------------------|\n",
            "| Platinum     |            8             |           15            |\n",
            "| Gold         |            6             |           10            |\n",
            "| Silver       |            5             |            7            |\n"
          ]
        }
      ]
    },
    {
      "cell_type": "markdown",
      "source": [
        "## Test Case 3"
      ],
      "metadata": {
        "id": "Glox2aoKtix3"
      }
    },
    {
      "cell_type": "markdown",
      "source": [
        "Masukkan parameter monthly_expense = 9 dan monthly_income = 12"
      ],
      "metadata": {
        "id": "n-PBDxe-tlvS"
      }
    },
    {
      "cell_type": "code",
      "source": [
        "user_1.predict_membership(user_1.username, 9, 12)"
      ],
      "metadata": {
        "colab": {
          "base_uri": "https://localhost:8080/",
          "height": 54
        },
        "id": "_mu_HDBOtpN0",
        "outputId": "411a7388-49d3-4f12-b621-cc2b9af191ae"
      },
      "execution_count": 7,
      "outputs": [
        {
          "output_type": "stream",
          "name": "stdout",
          "text": [
            "Hasil perhitungan Euclidean Distance dari user Fadhil adalah {'Platinum': 3.16, 'Gold': 3.61, 'Silver': 6.4}\n"
          ]
        },
        {
          "output_type": "execute_result",
          "data": {
            "text/plain": [
              "'Platinum'"
            ],
            "application/vnd.google.colaboratory.intrinsic+json": {
              "type": "string"
            }
          },
          "metadata": {},
          "execution_count": 7
        }
      ]
    },
    {
      "cell_type": "markdown",
      "source": [
        "## Tampilkan data yang terbaru"
      ],
      "metadata": {
        "id": "wfMBq36ttuga"
      }
    },
    {
      "cell_type": "code",
      "source": [
        "user_1.data"
      ],
      "metadata": {
        "colab": {
          "base_uri": "https://localhost:8080/"
        },
        "id": "x7LihNd-txLM",
        "outputId": "5071d48e-54a8-449f-c4da-3cacb60b827c"
      },
      "execution_count": 18,
      "outputs": [
        {
          "output_type": "execute_result",
          "data": {
            "text/plain": [
              "{'Sumbul': 'Platinum',\n",
              " 'Ana': 'Gold',\n",
              " 'Cahya': 'Platinum',\n",
              " 'Fadhil': 'Platinum',\n",
              " 'Pevita': 'Silver'}"
            ]
          },
          "metadata": {},
          "execution_count": 18
        }
      ]
    },
    {
      "cell_type": "markdown",
      "source": [
        "## Tampilkan Membership berdasarkan username"
      ],
      "metadata": {
        "id": "R0gw-Qu3t1rn"
      }
    },
    {
      "cell_type": "code",
      "source": [
        "user_1.show_membership(user_1.username)"
      ],
      "metadata": {
        "colab": {
          "base_uri": "https://localhost:8080/",
          "height": 36
        },
        "id": "nNa5eXq7t9q4",
        "outputId": "b1e47663-e492-4083-c8f9-b1f2cdf75f26"
      },
      "execution_count": 9,
      "outputs": [
        {
          "output_type": "execute_result",
          "data": {
            "text/plain": [
              "'Platinum'"
            ],
            "application/vnd.google.colaboratory.intrinsic+json": {
              "type": "string"
            }
          },
          "metadata": {},
          "execution_count": 9
        }
      ]
    },
    {
      "cell_type": "markdown",
      "source": [
        "## Test Case 4"
      ],
      "metadata": {
        "id": "yk2I4dbtuMVP"
      }
    },
    {
      "cell_type": "markdown",
      "source": [
        "Masukkan list harga barang yang harus dihitung [150_000, 200_000, 400_000]"
      ],
      "metadata": {
        "id": "fFHvCGNUuSNO"
      }
    },
    {
      "cell_type": "code",
      "source": [
        "user_1.calculate_price(user_1.username, [150000, 200000, 400000])"
      ],
      "metadata": {
        "colab": {
          "base_uri": "https://localhost:8080/"
        },
        "id": "XFkxOUTIuWa2",
        "outputId": "14d60d6e-e40a-4ba3-9cf7-19e833393051"
      },
      "execution_count": 10,
      "outputs": [
        {
          "output_type": "execute_result",
          "data": {
            "text/plain": [
              "637500.0"
            ]
          },
          "metadata": {},
          "execution_count": 10
        }
      ]
    },
    {
      "cell_type": "markdown",
      "source": [
        "## Another Test Case"
      ],
      "metadata": {
        "id": "YpbFl7Hhuk67"
      }
    },
    {
      "cell_type": "markdown",
      "source": [
        "Cobalah dengan existing user Ana yang ada di dalam database"
      ],
      "metadata": {
        "id": "huOfwmNUuol0"
      }
    },
    {
      "cell_type": "code",
      "source": [
        "user_ana = Membership(\"Ana\")"
      ],
      "metadata": {
        "id": "c0mVrYXSus-_"
      },
      "execution_count": 11,
      "outputs": []
    },
    {
      "cell_type": "code",
      "source": [
        "user_ana.data"
      ],
      "metadata": {
        "colab": {
          "base_uri": "https://localhost:8080/"
        },
        "id": "IPYbOuAguvex",
        "outputId": "c7230c2a-9f81-44ac-b96f-d2f69f24d171"
      },
      "execution_count": 12,
      "outputs": [
        {
          "output_type": "execute_result",
          "data": {
            "text/plain": [
              "{'Sumbul': 'Platinum',\n",
              " 'Ana': 'Gold',\n",
              " 'Cahya': 'Platinum',\n",
              " 'Fadhil': 'Platinum'}"
            ]
          },
          "metadata": {},
          "execution_count": 12
        }
      ]
    },
    {
      "cell_type": "code",
      "source": [
        "user_ana.calculate_price(user_ana.username, [150000, 200000, 400000])"
      ],
      "metadata": {
        "colab": {
          "base_uri": "https://localhost:8080/"
        },
        "id": "pASyPwfBu_Wn",
        "outputId": "fc139949-8342-4cd6-9d4e-7f97d42c3544"
      },
      "execution_count": 13,
      "outputs": [
        {
          "output_type": "execute_result",
          "data": {
            "text/plain": [
              "675000.0"
            ]
          },
          "metadata": {},
          "execution_count": 13
        }
      ]
    },
    {
      "cell_type": "markdown",
      "source": [
        "# Coba dengan User lain\n",
        "- User dengan username `\"Pevita\"`\n",
        "- `monthly_expense = 3` dan `monthly_income = 4`\n",
        "- List harga barangnya `[300_000, 150_000, 1_250_000, 15_000]`"
      ],
      "metadata": {
        "id": "xCjiGIkzwuzE"
      }
    },
    {
      "cell_type": "code",
      "source": [
        "user_pevita = Membership(\"Pevita\")"
      ],
      "metadata": {
        "id": "-IzGjy9RxBbz"
      },
      "execution_count": 14,
      "outputs": []
    },
    {
      "cell_type": "code",
      "source": [
        "user_pevita.predict_membership(user_pevita.username, 3, 4)"
      ],
      "metadata": {
        "colab": {
          "base_uri": "https://localhost:8080/",
          "height": 54
        },
        "id": "RlOT5BvIxB6g",
        "outputId": "a506cbe9-990a-4b2a-e2c9-fd6f42c98049"
      },
      "execution_count": 15,
      "outputs": [
        {
          "output_type": "stream",
          "name": "stdout",
          "text": [
            "Hasil perhitungan Euclidean Distance dari user Pevita adalah {'Platinum': 12.08, 'Gold': 6.71, 'Silver': 3.61}\n"
          ]
        },
        {
          "output_type": "execute_result",
          "data": {
            "text/plain": [
              "'Silver'"
            ],
            "application/vnd.google.colaboratory.intrinsic+json": {
              "type": "string"
            }
          },
          "metadata": {},
          "execution_count": 15
        }
      ]
    },
    {
      "cell_type": "code",
      "source": [
        "user_pevita.show_membership(user_pevita.username)"
      ],
      "metadata": {
        "colab": {
          "base_uri": "https://localhost:8080/",
          "height": 36
        },
        "id": "A_IQQH1uXgNC",
        "outputId": "e3b9008c-47ec-4c56-adfd-88c58ce75031"
      },
      "execution_count": 16,
      "outputs": [
        {
          "output_type": "execute_result",
          "data": {
            "text/plain": [
              "'Silver'"
            ],
            "application/vnd.google.colaboratory.intrinsic+json": {
              "type": "string"
            }
          },
          "metadata": {},
          "execution_count": 16
        }
      ]
    },
    {
      "cell_type": "code",
      "source": [
        "user_pevita.calculate_price(user_pevita.username, [300_000, 150_000, 1_250_000, 15_000])"
      ],
      "metadata": {
        "colab": {
          "base_uri": "https://localhost:8080/"
        },
        "id": "s-I34gQVXour",
        "outputId": "38f31072-dd9a-46a2-a0f7-7e82722341b4"
      },
      "execution_count": 17,
      "outputs": [
        {
          "output_type": "execute_result",
          "data": {
            "text/plain": [
              "1577800.0"
            ]
          },
          "metadata": {},
          "execution_count": 17
        }
      ]
    }
  ]
}